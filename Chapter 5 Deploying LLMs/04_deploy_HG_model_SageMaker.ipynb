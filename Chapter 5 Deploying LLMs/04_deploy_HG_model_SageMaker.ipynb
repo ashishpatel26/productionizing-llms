{
 "cells": [
  {
   "cell_type": "code",
   "execution_count": null,
   "id": "3cee6028-e4ee-42fd-9ddb-39c979c98703",
   "metadata": {},
   "outputs": [],
   "source": [
    "import json\n",
    "import sagemaker\n",
    "import boto3\n",
    "from sagemaker.huggingface import HuggingFaceModel, get_huggingface_llm_image_uri"
   ]
  },
  {
   "cell_type": "code",
   "execution_count": null,
   "id": "363a1d8c-5ef2-444d-9515-1d5867c6ca8e",
   "metadata": {},
   "outputs": [],
   "source": [
    "!export hf_token=\"hf_...\""
   ]
  },
  {
   "cell_type": "code",
   "execution_count": null,
   "id": "beb7a177-9ed0-41f9-b423-5948de281011",
   "metadata": {},
   "outputs": [],
   "source": [
    "SAGEMAKER_IAM_ROLE_NAME = \"\"\n",
    "\n",
    "try:\n",
    "    role = sagemaker.get_execution_role()\n",
    "except ValueError:\n",
    "    iam = boto3.client('iam')\n",
    "    role = iam.get_role(RoleName=SAGEMAKER_IAM_ROLE_NAME)['Role']['Arn']\n",
    "\n",
    "# Hub Model configuration. https://huggingface.co/models\n",
    "hub = {\n",
    "    'HF_MODEL_ID':'mistralai/Mixtral-8x7B-Instruct-v0.1',\n",
    "    'SM_NUM_GPUS': json.dumps(8)  # Change as per requirements\n",
    "}\n",
    "\n",
    "# create Hugging Face Model Class\n",
    "huggingface_model = HuggingFaceModel(\n",
    "    image_uri=get_huggingface_llm_image_uri(\"huggingface\",version=\"1.4.2\"),\n",
    "    env=hub,\n",
    "    role=role, \n",
    ")\n",
    "\n",
    "# deploy model to SageMaker Inference\n",
    "predictor = huggingface_model.deploy(\n",
    "    initial_instance_count=1,\n",
    "    instance_type=\"ml.g5.48xlarge\",\n",
    "    container_startup_health_check_timeout=300,\n",
    ")\n",
    "  \n",
    "# send request\n",
    "predictor.predict({\n",
    "    \"inputs\": \"My name is Clara and I am\",\n",
    "})"
   ]
  }
 ],
 "metadata": {
  "kernelspec": {
   "display_name": "Python 3 (ipykernel)",
   "language": "python",
   "name": "python3"
  },
  "language_info": {
   "codemirror_mode": {
    "name": "ipython",
    "version": 3
   },
   "file_extension": ".py",
   "mimetype": "text/x-python",
   "name": "python",
   "nbconvert_exporter": "python",
   "pygments_lexer": "ipython3",
   "version": "3.9.16"
  }
 },
 "nbformat": 4,
 "nbformat_minor": 5
}
