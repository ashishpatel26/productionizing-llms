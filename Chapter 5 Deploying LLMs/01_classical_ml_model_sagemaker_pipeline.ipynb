{
 "cells": [
  {
   "cell_type": "markdown",
   "id": "00757c21-434b-45bf-9c58-3e38befde85a",
   "metadata": {},
   "source": [
    "Derived from https://github.com/aws/amazon-sagemaker-examples/blob/main/sagemaker-pipeline-parameterization/parameterized-pipeline.ipynb"
   ]
  },
  {
   "cell_type": "markdown",
   "id": "c4300c67-8f24-4368-8b86-99221c17c7fe",
   "metadata": {},
   "source": [
    "# SageMaker Pipelines"
   ]
  },
  {
   "cell_type": "markdown",
   "id": "aa760f8b-6eb6-45f1-8d9d-9704659b3d57",
   "metadata": {},
   "source": [
    "<img src=\"https://raw.githubusercontent.com/aws/amazon-sagemaker-examples/a1af27747f2b1bc1e46570a30107a5a0d841ed6a/sagemaker-pipeline-parameterization/images/sm-pipelines.png\" />"
   ]
  },
  {
   "cell_type": "markdown",
   "id": "8c8b6e33-3238-4e33-917c-34dcdf0015de",
   "metadata": {},
   "source": [
    "**SageMaker Pipeline DAG**\n",
    "\n",
    "<img src=\"https://raw.githubusercontent.com/aws/amazon-sagemaker-examples/a1af27747f2b1bc1e46570a30107a5a0d841ed6a/sagemaker-pipeline-parameterization/images/sm-pipeline-dag.png\" />"
   ]
  },
  {
   "cell_type": "code",
   "execution_count": null,
   "id": "d689caaf-916b-45e3-ae61-1190775fc50d",
   "metadata": {},
   "outputs": [],
   "source": [
    "!pip install -U sagemaker --quiet"
   ]
  },
  {
   "cell_type": "code",
   "execution_count": null,
   "id": "fa186c57-0ab0-4ba3-a317-d7aff548852f",
   "metadata": {},
   "outputs": [],
   "source": [
    "import boto3\n",
    "import sagemaker\n",
    "import sagemaker.session"
   ]
  },
  {
   "cell_type": "code",
   "execution_count": null,
   "id": "1293fe2c-0db8-4792-85ac-8a4e603435f0",
   "metadata": {},
   "outputs": [],
   "source": [
    "session = sagemaker.session.Session()\n",
    "region = session.boto_region_name\n",
    "role = sagemaker.get_execution_role()\n",
    "bucket = session.default_bucket()"
   ]
  },
  {
   "cell_type": "code",
   "execution_count": null,
   "id": "ed099207-6c37-4736-adc0-72f682c2c9a1",
   "metadata": {},
   "outputs": [],
   "source": [
    "prefix = \"paramaterized\"  # Prefix to S3 artifacts\n",
    "pipeline_name = \"DEMO-parameterized-pipeline\"  # SageMaker Pipeline name\n",
    "credit_model_group = \"DEMO-credit-registry\"\n",
    "churn_model_group = \"DEMO-churn-registry\""
   ]
  },
  {
   "cell_type": "markdown",
   "id": "3032b708-ef2d-4711-8d78-e37b69151cd6",
   "metadata": {},
   "source": [
    "## Dowload Data"
   ]
  },
  {
   "cell_type": "code",
   "execution_count": null,
   "id": "48fcc4e4-427b-41df-ae45-157270fd63c0",
   "metadata": {},
   "outputs": [],
   "source": [
    "s3 = boto3.client(\"s3\")\n",
    "s3.download_file(\n",
    "    f\"sagemaker-example-files-prod-{region}\",\n",
    "    \"datasets/tabular/uci_statlog_german_credit_data/german_credit_data.csv\",\n",
    "    \"credit_risk/german_credit_data.csv\",\n",
    ")\n",
    "s3.download_file(\n",
    "    f\"sagemaker-example-files-prod-{region}\",\n",
    "    \"datasets/tabular/synthetic/churn.csv\",\n",
    "    \"customer_churn/churn-dataset.csv\",\n",
    ")"
   ]
  },
  {
   "cell_type": "markdown",
   "id": "067a6fdb-abc1-4501-bb87-81c433219f54",
   "metadata": {},
   "source": [
    "## Upload Data"
   ]
  },
  {
   "cell_type": "code",
   "execution_count": null,
   "id": "f15635f8-544f-40b1-a28e-a5f58cf86282",
   "metadata": {},
   "outputs": [],
   "source": [
    "# Upload the raw datasets and scripts to S3\n",
    "customer_churn_data_uri = session.upload_data(\n",
    "    path=\"customer_churn/churn-dataset.csv\", key_prefix=prefix + \"/data\"\n",
    ")\n",
    "\n",
    "credit_data_uri = session.upload_data(\n",
    "    path=\"credit_risk/german_credit_data.csv\", key_prefix=prefix + \"/data\"\n",
    ")\n",
    "\n",
    "churn_preprocess_uri = session.upload_data(\n",
    "    path=\"customer_churn/preprocess.py\", key_prefix=prefix + \"/preprocess/churn\"\n",
    ")\n",
    "\n",
    "credit_preprocess_uri = session.upload_data(\n",
    "    path=\"credit_risk/preprocess.py\", key_prefix=prefix + \"/preprocess/credit\"\n",
    ")\n",
    "\n",
    "evaluate_script_uri = session.upload_data(path=\"evaluate.py\", key_prefix=prefix + \"/evaluate\")\n",
    "\n",
    "\n",
    "print(\"Customer churn data set uploaded to \", customer_churn_data_uri)\n",
    "print(\"Credit data set uploaded to \", credit_data_uri)\n",
    "\n",
    "print(\"Customer churn preprocessing script uploaded to \", churn_preprocess_uri)\n",
    "print(\"Credit preprocessing script uploaded to \", credit_preprocess_uri)\n",
    "\n",
    "print(\"Evaluation script uploaded to \", evaluate_script_uri)"
   ]
  },
  {
   "cell_type": "markdown",
   "id": "99196966-a14b-4856-aff6-19caf62fca8e",
   "metadata": {},
   "source": [
    "## Pipeline input parameters\n",
    "Pipeline Parameters are input parameter when triggering a pipeline execution. They need to be explicitly defined when creating the pipeline and contain default values.\n",
    "\n",
    "Create parameters for the inputs to the pipeline. In this case, parameters will be used for:\n",
    "\n",
    "- `ModelGroup` - Which registry to register the trained model with.\n",
    "- `InputData` - S3 URI to pipeline input data.\n",
    "- `PreprocessScript` - S3 URI to python script to preprocess the data.\n",
    "- `EvaluateScript` - S3 URI to python script to evaluate the trained model.\n",
    "- `MaxiumTrainingJobs` - How many training jobs to allow when hyperparameter tuning the model\n",
    "- `MaxiumParallelTrainingJobs` - How many training jobs to allow in parallel when hyperparameter tuning the model.\n",
    "- `AccuracyConditionThreshold` - Only register models with the model registry if the have at least this classification accuracy.\n",
    "- `ProcessingInstanceType` - What EC2 instance type to use for processing.\n",
    "- `TrainingInstanceType` - What EC2 instance type to use for training."
   ]
  },
  {
   "cell_type": "code",
   "execution_count": null,
   "id": "71706cbb-da05-445d-beb5-618cfe747686",
   "metadata": {},
   "outputs": [],
   "source": [
    "from sagemaker.workflow.parameters import (\n",
    "    ParameterInteger,\n",
    "    ParameterString,\n",
    "    ParameterFloat,\n",
    ")\n",
    "\n",
    "# To what Registry to register the model and its versions.\n",
    "model_registry_package = ParameterString(name=\"ModelGroup\", default_value=\"default-registry\")\n",
    "\n",
    "# S3 URI to input data\n",
    "input_data = ParameterString(name=\"InputData\", default_value=\"s3://{}/uri/data.csv\".format(bucket))\n",
    "\n",
    "# S3 URI to preprocessing script\n",
    "preprocess_script = ParameterString(\n",
    "    name=\"PreprocessScript\", default_value=\"s3://{}/uri/preprocess.py\".format(bucket)\n",
    ")\n",
    "\n",
    "# S3 URI to evaluation script\n",
    "evaluate_script = ParameterString(\n",
    "    name=\"EvaluateScript\", default_value=\"s3://{}/uri/evaluate.py\".format(bucket)\n",
    ")\n",
    "\n",
    "# Maximum amount of training jobs to allow in the HP tuning\n",
    "max_training_jobs = ParameterInteger(name=\"MaxiumTrainingJobs\", default_value=1)\n",
    "\n",
    "# Maximum amount of trainingjobs to allow in the HP tuning\n",
    "max_parallel_training_jobs = ParameterInteger(name=\"MaxiumParallelTrainingJobs\", default_value=1)\n",
    "\n",
    "# Accuracy threshold to decide whether or not to register the model with Model Registry\n",
    "accuracy_condition_threshold = ParameterFloat(name=\"AccuracyConditionThreshold\", default_value=0.7)\n",
    "\n",
    "# What instance type to use for processing.\n",
    "processing_instance_type = ParameterString(\n",
    "    name=\"ProcessingInstanceType\", default_value=\"ml.m5.large\"\n",
    ")\n",
    "\n",
    "# What instance type to use for training.\n",
    "training_instance_type = ParameterString(name=\"TrainingInstanceType\", default_value=\"ml.m5.xlarge\")"
   ]
  },
  {
   "cell_type": "markdown",
   "id": "3fffe52e-0aa3-451c-aebb-59f30c9d2808",
   "metadata": {},
   "source": [
    "## Preprocess data step"
   ]
  },
  {
   "cell_type": "code",
   "execution_count": null,
   "id": "b4079573-2de7-412e-8126-bf83d6667679",
   "metadata": {},
   "outputs": [],
   "source": [
    "from sagemaker.sklearn.processing import SKLearnProcessor\n",
    "from sagemaker.processing import ProcessingInput, ProcessingOutput\n",
    "from sagemaker.workflow.steps import ProcessingStep\n",
    "from sagemaker.workflow.functions import Join\n",
    "from sagemaker.workflow.execution_variables import ExecutionVariables\n",
    "\n",
    "# Create SKlearn processor object,\n",
    "# The object contains information about what instance type to use, the IAM role to use etc.\n",
    "# A managed processor comes with a preconfigured container, so only specifying version is required.\n",
    "sklearn_processor = SKLearnProcessor(\n",
    "    framework_version=\"0.23-1\", role=role, instance_type=processing_instance_type, instance_count=1\n",
    ")\n",
    "\n",
    "# Use the sklearn_processor in a SageMaker Pipelines ProcessingStep\n",
    "step_preprocess_data = ProcessingStep(\n",
    "    name=\"Preprocess-Data\",\n",
    "    processor=sklearn_processor,\n",
    "    inputs=[\n",
    "        ProcessingInput(source=input_data, destination=\"/opt/ml/processing/input\"),\n",
    "    ],\n",
    "    outputs=[\n",
    "        ProcessingOutput(\n",
    "            output_name=\"train\",\n",
    "            source=\"/opt/ml/processing/train\",\n",
    "            destination=Join(\n",
    "                on=\"/\",\n",
    "                values=[\n",
    "                    \"s3://{}\".format(bucket),\n",
    "                    prefix,\n",
    "                    ExecutionVariables.PIPELINE_EXECUTION_ID,\n",
    "                    \"train\",\n",
    "                ],\n",
    "            ),\n",
    "        ),\n",
    "        ProcessingOutput(\n",
    "            output_name=\"validation\",\n",
    "            source=\"/opt/ml/processing/validation\",\n",
    "            destination=Join(\n",
    "                on=\"/\",\n",
    "                values=[\n",
    "                    \"s3://{}\".format(bucket),\n",
    "                    prefix,\n",
    "                    ExecutionVariables.PIPELINE_EXECUTION_ID,\n",
    "                    \"validation\",\n",
    "                ],\n",
    "            ),\n",
    "        ),\n",
    "        ProcessingOutput(\n",
    "            output_name=\"test\",\n",
    "            source=\"/opt/ml/processing/test\",\n",
    "            destination=Join(\n",
    "                on=\"/\",\n",
    "                values=[\n",
    "                    \"s3://{}\".format(bucket),\n",
    "                    prefix,\n",
    "                    ExecutionVariables.PIPELINE_EXECUTION_ID,\n",
    "                    \"test\",\n",
    "                ],\n",
    "            ),\n",
    "        ),\n",
    "    ],\n",
    "    code=preprocess_script,\n",
    ")"
   ]
  },
  {
   "cell_type": "markdown",
   "id": "90bf4b7a-81f9-4714-ae9d-ea53e9fc528f",
   "metadata": {},
   "source": [
    "## Train model step"
   ]
  },
  {
   "cell_type": "code",
   "execution_count": null,
   "id": "c385a28b-71be-4a52-af42-4c8a632fcc11",
   "metadata": {},
   "outputs": [],
   "source": [
    "from sagemaker.inputs import TrainingInput\n",
    "from sagemaker.estimator import Estimator\n",
    "from sagemaker.tuner import HyperparameterTuner, ContinuousParameter, IntegerParameter\n",
    "from sagemaker.workflow.steps import TuningStep\n",
    "\n",
    "# Fetch container to use for training\n",
    "image_uri = sagemaker.image_uris.retrieve(\n",
    "    framework=\"xgboost\",\n",
    "    region=region,\n",
    "    version=\"1.2-2\",\n",
    "    py_version=\"py3\",\n",
    "    instance_type=\"ml.m5.xlarge\",\n",
    ")\n",
    "\n",
    "# Create XGBoost estimator object\n",
    "# The object contains information about what container to use, what instance type etc.\n",
    "xgb_estimator = Estimator(\n",
    "    image_uri=image_uri,\n",
    "    instance_type=training_instance_type,\n",
    "    instance_count=1,\n",
    "    role=role,\n",
    "    disable_profiler=True,\n",
    ")\n",
    "\n",
    "# Create Hyperparameter tuner object. Ranges from https://docs.aws.amazon.com/sagemaker/latest/dg/xgboost-tuning.html\n",
    "xgb_tuner = HyperparameterTuner(\n",
    "    estimator=xgb_estimator,\n",
    "    objective_metric_name=\"validation:auc\",\n",
    "    hyperparameter_ranges={\n",
    "        \"eta\": ContinuousParameter(0, 0.5),\n",
    "        \"alpha\": ContinuousParameter(0, 1000),\n",
    "        \"min_child_weight\": ContinuousParameter(1, 120),\n",
    "        \"max_depth\": IntegerParameter(1, 10),\n",
    "        \"num_round\": IntegerParameter(1, 2000),\n",
    "        \"subsample\": ContinuousParameter(0.5, 1),\n",
    "    },\n",
    "    max_jobs=max_training_jobs,\n",
    "    max_parallel_jobs=max_parallel_training_jobs,\n",
    ")\n",
    "\n",
    "# use the tuner in a SageMaker pipielines tuning step.\n",
    "step_tuning = TuningStep(\n",
    "    name=\"Train-And-Tune-Model\",\n",
    "    tuner=xgb_tuner,\n",
    "    inputs={\n",
    "        \"train\": TrainingInput(\n",
    "            s3_data=step_preprocess_data.properties.ProcessingOutputConfig.Outputs[\n",
    "                \"train\"\n",
    "            ].S3Output.S3Uri,\n",
    "            content_type=\"text/csv\",\n",
    "        ),\n",
    "        \"validation\": TrainingInput(\n",
    "            s3_data=step_preprocess_data.properties.ProcessingOutputConfig.Outputs[\n",
    "                \"validation\"\n",
    "            ].S3Output.S3Uri,\n",
    "            content_type=\"text/csv\",\n",
    "        ),\n",
    "    },\n",
    ")"
   ]
  },
  {
   "cell_type": "markdown",
   "id": "08122a8e-43cd-461d-ac38-8632cdf7b3a7",
   "metadata": {},
   "source": [
    "## Evaluate model step"
   ]
  },
  {
   "cell_type": "code",
   "execution_count": null,
   "id": "502f08e9-3d27-413e-a33c-fd4c27ad077a",
   "metadata": {},
   "outputs": [],
   "source": [
    "from sagemaker.processing import ScriptProcessor\n",
    "from sagemaker.workflow.properties import PropertyFile\n",
    "\n",
    "# Create ScriptProcessor object.\n",
    "# The object contains information about what container to use, what instance type etc.\n",
    "evaluate_model_processor = ScriptProcessor(\n",
    "    image_uri=image_uri,\n",
    "    command=[\"python3\"],\n",
    "    instance_type=processing_instance_type,\n",
    "    instance_count=1,\n",
    "    role=role,\n",
    ")\n",
    "\n",
    "# Create a PropertyFile\n",
    "# A PropertyFile is used to be able to reference outputs from a processing step, for instance to use in a condition step.\n",
    "# For more information, visit https://docs.aws.amazon.com/sagemaker/latest/dg/build-and-manage-propertyfile.html\n",
    "evaluation_report = PropertyFile(\n",
    "    name=\"EvaluationReport\", output_name=\"evaluation\", path=\"evaluation.json\"\n",
    ")\n",
    "\n",
    "# Use the evaluate_model_processor in a SageMaker Pipelines ProcessingStep.\n",
    "# Extract the best model for evaluation.\n",
    "step_evaluate_model = ProcessingStep(\n",
    "    name=\"Evaluate-Model\",\n",
    "    processor=evaluate_model_processor,\n",
    "    inputs=[\n",
    "        ProcessingInput(\n",
    "            source=step_tuning.get_top_model_s3_uri(top_k=0, s3_bucket=bucket),\n",
    "            destination=\"/opt/ml/processing/model\",\n",
    "        ),\n",
    "        ProcessingInput(\n",
    "            source=step_preprocess_data.properties.ProcessingOutputConfig.Outputs[\n",
    "                \"test\"\n",
    "            ].S3Output.S3Uri,\n",
    "            destination=\"/opt/ml/processing/test\",\n",
    "        ),\n",
    "    ],\n",
    "    outputs=[\n",
    "        ProcessingOutput(\n",
    "            output_name=\"evaluation\",\n",
    "            source=\"/opt/ml/processing/evaluation\",\n",
    "            destination=Join(\n",
    "                on=\"/\",\n",
    "                values=[\n",
    "                    \"s3://{}\".format(bucket),\n",
    "                    prefix,\n",
    "                    ExecutionVariables.PIPELINE_EXECUTION_ID,\n",
    "                    \"evaluation-report\",\n",
    "                ],\n",
    "            ),\n",
    "        ),\n",
    "    ],\n",
    "    code=evaluate_script,\n",
    "    property_files=[evaluation_report],\n",
    ")"
   ]
  },
  {
   "cell_type": "markdown",
   "id": "60836565-2771-4fd5-b24a-a033638e1cf2",
   "metadata": {},
   "source": [
    "## Register model step"
   ]
  },
  {
   "cell_type": "code",
   "execution_count": null,
   "id": "b303a130-9379-474d-b152-72a6ac742010",
   "metadata": {},
   "outputs": [],
   "source": [
    "from sagemaker.model_metrics import MetricsSource, ModelMetrics\n",
    "from sagemaker.workflow.step_collections import RegisterModel\n",
    "\n",
    "# Create ModelMetrics object using the evaluation report from the evaluation step\n",
    "# A ModelMetrics object contains metrics captured from a model.\n",
    "model_metrics = ModelMetrics(\n",
    "    model_statistics=MetricsSource(\n",
    "        s3_uri=Join(\n",
    "            on=\"/\",\n",
    "            values=[\n",
    "                step_evaluate_model.arguments[\"ProcessingOutputConfig\"][\"Outputs\"][0][\"S3Output\"][\n",
    "                    \"S3Uri\"\n",
    "                ],\n",
    "                \"evaluation.json\",\n",
    "            ],\n",
    "        ),\n",
    "        content_type=\"application/json\",\n",
    "    )\n",
    ")\n",
    "\n",
    "# Crete a RegisterModel step, which registers the model with SageMaker Model Registry.\n",
    "step_register_model = RegisterModel(\n",
    "    name=\"Register-Model\",\n",
    "    estimator=xgb_estimator,\n",
    "    model_data=step_tuning.get_top_model_s3_uri(top_k=0, s3_bucket=bucket),\n",
    "    content_types=[\"text/csv\"],\n",
    "    response_types=[\"text/csv\"],\n",
    "    inference_instances=[\"ml.t2.medium\", \"ml.m5.xlarge\", \"ml.m5.large\"],\n",
    "    transform_instances=[\"ml.m5.xlarge\"],\n",
    "    model_package_group_name=model_registry_package,\n",
    "    model_metrics=model_metrics,\n",
    ")"
   ]
  },
  {
   "cell_type": "markdown",
   "id": "46785923-fb0a-42bf-b351-de9fe385ecbd",
   "metadata": {},
   "source": [
    "## Accuracy condition step"
   ]
  },
  {
   "cell_type": "code",
   "execution_count": null,
   "id": "31ae3620-ce5b-4d7e-a0ed-63986dba8986",
   "metadata": {},
   "outputs": [],
   "source": [
    "from sagemaker.workflow.conditions import ConditionGreaterThanOrEqualTo\n",
    "from sagemaker.workflow.condition_step import ConditionStep\n",
    "from sagemaker.workflow.functions import JsonGet\n",
    "\n",
    "# Create accuracy condition to ensure the model meets performance requirements.\n",
    "# Models with a test accuracy lower than the condition will not be registered with the model registry.\n",
    "cond_gte = ConditionGreaterThanOrEqualTo(\n",
    "    left=JsonGet(\n",
    "        step_name=step_evaluate_model.name,\n",
    "        property_file=evaluation_report,\n",
    "        json_path=\"binary_classification_metrics.accuracy.value\",\n",
    "    ),\n",
    "    right=accuracy_condition_threshold,\n",
    ")\n",
    "\n",
    "# Create a SageMaker Pipelines ConditionStep, using the condition above.\n",
    "# Enter the steps to perform if the condition returns True / False.\n",
    "step_cond = ConditionStep(\n",
    "    name=\"Accuracy-Condition\",\n",
    "    conditions=[cond_gte],\n",
    "    if_steps=[step_register_model],\n",
    "    else_steps=[],\n",
    ")"
   ]
  },
  {
   "cell_type": "markdown",
   "id": "5edd52f3-d3ec-4e42-a1b3-af09f226835c",
   "metadata": {},
   "source": [
    "## Creating Sagemaker pipeline instance"
   ]
  },
  {
   "cell_type": "code",
   "execution_count": null,
   "id": "43afc3bd-4c2d-45bb-94cf-00380c67ae09",
   "metadata": {},
   "outputs": [],
   "source": [
    "from sagemaker.workflow.pipeline import Pipeline\n",
    "\n",
    "# Create a SageMaker Pipeline.\n",
    "# Each parameter for the pipeline must be set as a parameter explicitly when the pipeline is created.\n",
    "# Also pass in each of the steps created above.\n",
    "# Note that the order of execution is determined from each step's dependencies on other steps,\n",
    "# not on the order they are passed in below.\n",
    "pipeline = Pipeline(\n",
    "    name=pipeline_name,\n",
    "    parameters=[\n",
    "        processing_instance_type,\n",
    "        training_instance_type,\n",
    "        input_data,\n",
    "        preprocess_script,\n",
    "        evaluate_script,\n",
    "        accuracy_condition_threshold,\n",
    "        model_registry_package,\n",
    "        max_parallel_training_jobs,\n",
    "        max_training_jobs,\n",
    "    ],\n",
    "    steps=[step_preprocess_data, step_tuning, step_evaluate_model, step_cond],\n",
    ")"
   ]
  },
  {
   "cell_type": "code",
   "execution_count": null,
   "id": "787f2d0c-329f-4a81-91b4-f16d6164ae0e",
   "metadata": {},
   "outputs": [],
   "source": [
    "# Submit pipeline\n",
    "pipeline.upsert(role_arn=role)"
   ]
  },
  {
   "cell_type": "code",
   "execution_count": null,
   "id": "0033fc17-ff30-4688-b490-99000163641b",
   "metadata": {},
   "outputs": [],
   "source": []
  },
  {
   "cell_type": "markdown",
   "id": "ca6c7727-1703-4b5c-95fd-cc4ccdf5d694",
   "metadata": {},
   "source": [
    "### Start pipeline with different parameters.\n",
    "\n",
    "<img src=\"https://raw.githubusercontent.com/aws/amazon-sagemaker-examples/a1af27747f2b1bc1e46570a30107a5a0d841ed6a/sagemaker-pipeline-parameterization/images/manual-execution.png\" />"
   ]
  },
  {
   "cell_type": "markdown",
   "id": "b7f6cad0-8c56-4654-b5c0-163d13cd5ca3",
   "metadata": {},
   "source": [
    "### Starting the pipeline with the SDK"
   ]
  },
  {
   "cell_type": "code",
   "execution_count": null,
   "id": "9b897798-13f6-4117-939b-b30daa4ca26b",
   "metadata": {},
   "outputs": [],
   "source": [
    "pipeline.start(\n",
    "    execution_display_name=\"Credit\",\n",
    "    parameters=dict(\n",
    "        InputData=credit_data_uri,\n",
    "        PreprocessScript=credit_preprocess_uri,\n",
    "        EvaluateScript=evaluate_script_uri,\n",
    "        AccuracyConditionThreshold=0.2,\n",
    "        MaxiumParallelTrainingJobs=2,\n",
    "        MaxiumTrainingJobs=5,\n",
    "        ModelGroup=credit_model_group,\n",
    "    ),\n",
    ")"
   ]
  },
  {
   "cell_type": "markdown",
   "id": "420f4f29-f34a-4af5-9c4e-c4f2de5b49ac",
   "metadata": {},
   "source": [
    "### Start the pipeline with boto3"
   ]
  },
  {
   "cell_type": "code",
   "execution_count": null,
   "id": "dd92b69d-5371-4305-a047-89b399ab87d3",
   "metadata": {},
   "outputs": [],
   "source": [
    "import boto3\n",
    "\n",
    "client = boto3.client(\"sagemaker\")"
   ]
  },
  {
   "cell_type": "code",
   "execution_count": null,
   "id": "02e2a4e7-873d-47d5-8a53-92e731f7f3c3",
   "metadata": {},
   "outputs": [],
   "source": [
    "response = client.start_pipeline_execution(\n",
    "    PipelineName=pipeline_name,\n",
    "    PipelineExecutionDisplayName=\"Pipeline_execution_1\",\n",
    "    PipelineParameters=[\n",
    "        {\n",
    "            'Name': 'InputData',\n",
    "            'Value': credit_data_uri\n",
    "        },\n",
    "        {\n",
    "            'Name': 'PreprocessScript',\n",
    "            'Value': credit_preprocess_uri\n",
    "        },\n",
    "        ...\n",
    "    ],\n",
    "    PipelineExecutionDescription='Test pipeline execution'\n",
    ")"
   ]
  },
  {
   "cell_type": "markdown",
   "id": "f4d0eecd-ca0c-4be3-a146-e63042d40e7d",
   "metadata": {},
   "source": [
    "## Visualize performance metrics"
   ]
  },
  {
   "cell_type": "markdown",
   "id": "2cdabadd-ad27-405b-853a-2b030f674372",
   "metadata": {},
   "source": [
    "<img src=\"https://raw.githubusercontent.com/aws/amazon-sagemaker-examples/a1af27747f2b1bc1e46570a30107a5a0d841ed6a/sagemaker-pipeline-parameterization/images/compare-versions-churn.png\" />"
   ]
  },
  {
   "cell_type": "code",
   "execution_count": null,
   "id": "97a1176e-cc51-47be-8c19-8608eb05089b",
   "metadata": {},
   "outputs": [],
   "source": []
  }
 ],
 "metadata": {
  "kernelspec": {
   "display_name": "Python 3 (ipykernel)",
   "language": "python",
   "name": "python3"
  },
  "language_info": {
   "codemirror_mode": {
    "name": "ipython",
    "version": 3
   },
   "file_extension": ".py",
   "mimetype": "text/x-python",
   "name": "python",
   "nbconvert_exporter": "python",
   "pygments_lexer": "ipython3",
   "version": "3.9.16"
  }
 },
 "nbformat": 4,
 "nbformat_minor": 5
}
