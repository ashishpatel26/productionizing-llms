{
 "cells": [
  {
   "cell_type": "code",
   "execution_count": null,
   "id": "69421918-1600-488a-b309-03c95da375c4",
   "metadata": {},
   "outputs": [],
   "source": [
    "!pip install auto-gptq\n",
    "!pip install --upgrade optimum accelerate\n",
    "!pip install --upgrade git+https://github.com/huggingface/transformers.git"
   ]
  },
  {
   "cell_type": "code",
   "execution_count": null,
   "id": "f4fca895-aecb-4d28-ac70-986133f5265e",
   "metadata": {},
   "outputs": [],
   "source": [
    "from transformers import AutoModelForCausalLM, AutoTokenizer\n",
    "from optimum.gptq import GPTQQuantizer, load_quantized_model\n",
    "import torch\n"
   ]
  },
  {
   "cell_type": "code",
   "execution_count": null,
   "id": "59407997-c81c-4385-a2b9-01c673429c83",
   "metadata": {},
   "outputs": [],
   "source": [
    "model_name = \"facebook/opt-125m\"\n",
    "tokenizer = AutoTokenizer.from_pretrained(model_name)\n",
    "model = AutoModelForCausalLM.from_pretrained(model_name, torch_dtype=torch.float16)\n",
    "\n",
    "quantizer = GPTQQuantizer(bits=4, dataset=\"c4\", block_name_to_quantize = \"model.decoder.layers\", model_seqlen = 2048)\n",
    "quantized_model = quantizer.quantize_model(model, tokenizer)"
   ]
  },
  {
   "cell_type": "code",
   "execution_count": null,
   "id": "a524adcb-2a08-4903-ad90-afa52d4432b2",
   "metadata": {},
   "outputs": [],
   "source": [
    "# Save the model\n",
    "\n",
    "save_folder = \"/path/to/save_folder/\"\n",
    "quantizer.save(model,save_folder)"
   ]
  },
  {
   "cell_type": "code",
   "execution_count": null,
   "id": "28be3fed-ba3b-4886-8044-c078df8b6101",
   "metadata": {},
   "outputs": [],
   "source": [
    "# Load quantized weights\n",
    "\n",
    "from accelerate import init_empty_weights\n",
    "with init_empty_weights():\n",
    "    empty_model = AutoModelForCausalLM.from_pretrained(model_name, torch_dtype=torch.float16)\n",
    "empty_model.tie_weights()\n",
    "quantized_model = load_quantized_model(empty_model, save_folder=save_folder, device_map=\"auto\")"
   ]
  }
 ],
 "metadata": {
  "kernelspec": {
   "display_name": "Python 3 (ipykernel)",
   "language": "python",
   "name": "python3"
  },
  "language_info": {
   "codemirror_mode": {
    "name": "ipython",
    "version": 3
   },
   "file_extension": ".py",
   "mimetype": "text/x-python",
   "name": "python",
   "nbconvert_exporter": "python",
   "pygments_lexer": "ipython3",
   "version": "3.9.16"
  }
 },
 "nbformat": 4,
 "nbformat_minor": 5
}
