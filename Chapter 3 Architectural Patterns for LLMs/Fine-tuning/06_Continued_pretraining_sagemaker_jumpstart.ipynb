{
 "cells": [
  {
   "cell_type": "code",
   "execution_count": null,
   "id": "b3090aa1-27c8-431b-ac40-38f6d89d439a",
   "metadata": {},
   "outputs": [],
   "source": [
    "%pip install -U datasets==2.15.0\n",
    "%pip install -U --force-reinstall \\\n",
    "             langchain==0.0.324 \\\n",
    "             typing_extensions==4.7.1 \\\n",
    "             pypdf==3.16.4\n"
   ]
  },
  {
   "cell_type": "markdown",
   "id": "52bc5f6e-1436-43d0-8498-aa01ab08e773",
   "metadata": {},
   "source": [
    "## Deploy pretrained model"
   ]
  },
  {
   "cell_type": "code",
   "execution_count": null,
   "id": "8bb48d42-3bc6-4ded-8dce-d3990c23b88c",
   "metadata": {},
   "outputs": [],
   "source": [
    "import sagemaker\n",
    "\n",
    "sess = sagemaker.Session()\n",
    "bucket = sess.default_bucket()\n",
    "role = sagemaker.get_execution_role()"
   ]
  },
  {
   "cell_type": "code",
   "execution_count": null,
   "id": "3fcefb5e-970f-4ea4-a60d-e8013ec31037",
   "metadata": {},
   "outputs": [],
   "source": [
    "model_id, model_version = \"meta-textgeneration-llama-2-7b\", \"2.*\""
   ]
  },
  {
   "cell_type": "code",
   "execution_count": null,
   "id": "62847488-b883-4ca1-9b7b-809cde009b74",
   "metadata": {},
   "outputs": [],
   "source": [
    "from sagemaker.jumpstart.model import JumpStartModel\n",
    "\n",
    "pretrained_model = JumpStartModel(model_id=model_id, model_version=model_version)\n",
    "pretrained_predictor = pretrained_model.deploy()"
   ]
  },
  {
   "cell_type": "markdown",
   "id": "154b8f0b-cd1f-4206-b006-9ed0064e2777",
   "metadata": {},
   "source": [
    "## Continued pretraining"
   ]
  },
  {
   "cell_type": "code",
   "execution_count": null,
   "id": "a7cda0dc-8319-4fad-ace5-b32e4374ccc8",
   "metadata": {},
   "outputs": [],
   "source": [
    "s3_prefix = f\"s3://jumpstart-cache-prod-{boto3.Session().region_name}/training-datasets/sec_amazon\"\n",
    "s3_location = f\"s3://jumpstart-cache-prod-{boto3.Session().region_name}/training-datasets/sec_amazon/AMZN_2021_2022_train_js.txt\""
   ]
  },
  {
   "cell_type": "code",
   "execution_count": null,
   "id": "21966962-c9c2-41c9-bf0c-2869d414cb07",
   "metadata": {},
   "outputs": [],
   "source": [
    "!aws s3 cp $s3_location ./"
   ]
  },
  {
   "cell_type": "code",
   "execution_count": null,
   "id": "9e3f9b91-7815-4fd9-8c28-8191be1bb07a",
   "metadata": {},
   "outputs": [],
   "source": [
    "import boto3\n",
    "from sagemaker.jumpstart.estimator import JumpStartEstimator\n",
    "\n",
    "model_id, model_version = \"meta-textgeneration-llama-2-7b\", \"2.*\"\n",
    "\n",
    "estimator = JumpStartEstimator(model_id=model_id, \n",
    "                               model_version=model_version, \n",
    "                               environment={\"accept_eula\": \"true\"},\n",
    "                               instance_type = \"ml.g5.24xlarge\")\n",
    "\n",
    "estimator.set_hyperparameters(instruction_tuned=\"False\", epoch=\"5\")\n",
    "\n",
    "estimator.fit({\"training\": s3_prefix})"
   ]
  },
  {
   "cell_type": "code",
   "execution_count": null,
   "id": "315efc09-217a-4912-be5a-2fb7e8afb8dd",
   "metadata": {},
   "outputs": [],
   "source": []
  },
  {
   "cell_type": "code",
   "execution_count": null,
   "id": "9bad47e1-3070-4d3e-8bf0-4677eeeaaebd",
   "metadata": {},
   "outputs": [],
   "source": []
  },
  {
   "cell_type": "code",
   "execution_count": null,
   "id": "9e1f16f1-4f46-42c1-87ce-56a1f5b2aff4",
   "metadata": {},
   "outputs": [],
   "source": []
  },
  {
   "cell_type": "code",
   "execution_count": null,
   "id": "4f19df77-bd06-4759-aff3-d027d0cbfa39",
   "metadata": {},
   "outputs": [],
   "source": []
  },
  {
   "cell_type": "code",
   "execution_count": null,
   "id": "d9cb159d-b457-4df6-a013-174e175bb63f",
   "metadata": {},
   "outputs": [],
   "source": []
  },
  {
   "cell_type": "code",
   "execution_count": null,
   "id": "017308c0-6e9d-4e63-b8e1-5d6d259febc3",
   "metadata": {},
   "outputs": [],
   "source": []
  }
 ],
 "metadata": {
  "kernelspec": {
   "display_name": "Python 3 (ipykernel)",
   "language": "python",
   "name": "python3"
  },
  "language_info": {
   "codemirror_mode": {
    "name": "ipython",
    "version": 3
   },
   "file_extension": ".py",
   "mimetype": "text/x-python",
   "name": "python",
   "nbconvert_exporter": "python",
   "pygments_lexer": "ipython3",
   "version": "3.9.16"
  }
 },
 "nbformat": 4,
 "nbformat_minor": 5
}
