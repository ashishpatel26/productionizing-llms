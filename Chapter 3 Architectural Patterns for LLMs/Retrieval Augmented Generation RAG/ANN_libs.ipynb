{
 "cells": [
  {
   "cell_type": "code",
   "execution_count": 5,
   "id": "d79285e2-b227-4bbf-b712-1d26faf8732f",
   "metadata": {},
   "outputs": [
    {
     "name": "stdout",
     "output_type": "stream",
     "text": [
      "\u001b[31mERROR: pip's dependency resolver does not currently take into account all the packages that are installed. This behaviour is the source of the following dependency conflicts.\n",
      "sagemaker 2.165.0 requires importlib-metadata<5.0,>=1.4.0, but you have importlib-metadata 6.0.0 which is incompatible.\u001b[0m\u001b[31m\n",
      "\u001b[0m"
     ]
    }
   ],
   "source": [
    "!pip install faiss scann -q"
   ]
  },
  {
   "cell_type": "markdown",
   "id": "ba740f6c-7607-4faf-969c-9c0df5db437d",
   "metadata": {},
   "source": [
    "\n",
    "## <a href=\"https://github.com/facebookresearch/faiss\">FAISS</a>"
   ]
  },
  {
   "cell_type": "code",
   "execution_count": 8,
   "id": "3c9e4dd4-bb4d-4e69-9a3d-1edcb86e045d",
   "metadata": {},
   "outputs": [],
   "source": [
    "from typing import Any, List, Tuple\n",
    "\n",
    "import numpy as np\n",
    "import faiss"
   ]
  },
  {
   "cell_type": "code",
   "execution_count": 10,
   "id": "2d06b24c-c21b-406f-b19f-82f53519cb0a",
   "metadata": {},
   "outputs": [],
   "source": [
    "def search_with_faiss(\n",
    "    corpus:List[Any], query_vector:List[Any], k:int=5\n",
    ") -> Tuple[List[Any], List[Any]]:\n",
    "    \"\"\"\n",
    "    Perform similarity search using FAISS.\n",
    "\n",
    "    Args:\n",
    "    - corpus (np.array): Corpus of vectors to be indexed.\n",
    "    - query_vector (np.array): Vector for similarity search.\n",
    "    - k (int): Number of nearest neighbors to retrieve. Default is 5.\n",
    "\n",
    "    Returns:\n",
    "    - distances (np.array): Distances to the nearest neighbors.\n",
    "    - indices (np.array): Indices of the nearest neighbors.\n",
    "    \"\"\"\n",
    "    # Initialize an index\n",
    "    dimension = corpus.shape[1]\n",
    "    index = faiss.IndexFlatL2(dimension)  # L2 distance (Euclidean distance) index\n",
    "\n",
    "    # Add vectors to the index\n",
    "    index.add(corpus)\n",
    "\n",
    "    # Perform a k-nearest neighbor search\n",
    "    distances, indices = index.search(query_vector, k)\n",
    "\n",
    "    return distances, indices"
   ]
  },
  {
   "cell_type": "code",
   "execution_count": 11,
   "id": "3ccc3dbd-7c88-4775-960e-cbab1c624925",
   "metadata": {},
   "outputs": [],
   "source": [
    "num_samples = 1000\n",
    "dimension = 100\n",
    "np.random.seed(42)\n",
    "corpus = np.random.random((num_samples, dimension)).astype('float32')"
   ]
  },
  {
   "cell_type": "code",
   "execution_count": 12,
   "id": "e1adf570-b3e8-4da6-9a15-b59cc23f12bb",
   "metadata": {},
   "outputs": [
    {
     "name": "stdout",
     "output_type": "stream",
     "text": [
      "Indices of nearest neighbors: [[220 490 785 455 416]]\n",
      "Distances to nearest neighbors: [[11.527527 11.875461 12.248822 12.437688 12.511422]]\n"
     ]
    }
   ],
   "source": [
    "query_vector = np.random.random((1, dimension)).astype('float32')\n",
    "\n",
    "distances, indices = search_with_faiss(corpus, query_vector)\n",
    "print(\"Indices of nearest neighbors:\", indices)\n",
    "print(\"Distances to nearest neighbors:\", distances)"
   ]
  },
  {
   "cell_type": "markdown",
   "id": "a02af714-e031-4c09-8ba3-f25fd6a3cc4f",
   "metadata": {},
   "source": [
    "## <a href=\"https://github.com/google-research/google-research/tree/master/scann\">SCANN</a>"
   ]
  },
  {
   "cell_type": "code",
   "execution_count": 15,
   "id": "9c0da63e-8d65-4fc4-b2a4-5af279cae4a5",
   "metadata": {},
   "outputs": [
    {
     "name": "stderr",
     "output_type": "stream",
     "text": [
      "2024-03-23 11:03:32.529056: I tensorflow/tsl/cuda/cudart_stub.cc:28] Could not find cuda drivers on your machine, GPU will not be used.\n",
      "2024-03-23 11:03:37.169729: I tensorflow/tsl/cuda/cudart_stub.cc:28] Could not find cuda drivers on your machine, GPU will not be used.\n",
      "2024-03-23 11:03:37.177843: I tensorflow/core/platform/cpu_feature_guard.cc:182] This TensorFlow binary is optimized to use available CPU instructions in performance-critical operations.\n",
      "To enable the following instructions: AVX2 FMA, in other operations, rebuild TensorFlow with the appropriate compiler flags.\n",
      "2024-03-23 11:03:48.121311: W tensorflow/compiler/tf2tensorrt/utils/py_utils.cc:38] TF-TRT Warning: Could not find TensorRT\n"
     ]
    }
   ],
   "source": [
    "import numpy as np\n",
    "import tensorflow as tf\n",
    "import scann"
   ]
  },
  {
   "cell_type": "code",
   "execution_count": 24,
   "id": "7db245c9-02a3-493c-9fa2-baa7570efa20",
   "metadata": {},
   "outputs": [],
   "source": [
    "def search_with_scann(\n",
    "    corpus:List[Any], \n",
    "    query_vector:List[Any], \n",
    "    # num_leaves:int=2000, \n",
    "    # num_leaves_to_search:int=100, \n",
    "    # training_sample_size:int=250000, \n",
    "    num_neighbors:int=10\n",
    ") -> Tuple[List[Any], List[Any]]:\n",
    "    \"\"\"\n",
    "    Perform similarity search using SCANN.\n",
    "\n",
    "    Args:\n",
    "    - corpus (np.array): Corpus of vectors to be indexed.\n",
    "    - query_vector (np.array): Vector for similarity search.\n",
    "    - num_leaves (int): Number of leaves in the tree. Default is 2000.\n",
    "    - num_leaves_to_search (int): Number of leaves to search. Default is 100.\n",
    "    - training_sample_size (int): Training sample size. Default is 250000.\n",
    "    - num_neighbors (int): Number of nearest neighbors to retrieve. Default is 10.\n",
    "\n",
    "    Returns:\n",
    "    - neighbors (np.array): Indices of the nearest neighbors.\n",
    "    - distances (np.array): Distances to the nearest neighbors.\n",
    "    \"\"\"\n",
    "    num_samples = corpus.shape[0]\n",
    "    num_clusters = min(2000, num_samples)  # Ensure number of clusters is less than or equal to the number of points\n",
    "\n",
    "    # Create a SCANN object\n",
    "    searcher = scann.scann_ops_pybind.builder(corpus, num_neighbors, \"dot_product\").tree(\n",
    "        num_leaves=num_clusters, num_leaves_to_search=100, training_sample_size=250000).score_ah(\n",
    "        2, anisotropic_quantization_threshold=0.2).reorder(100).build()\n",
    "\n",
    "    # Perform nearest neighbor search\n",
    "    neighbors, distances = searcher.search_batched(query_vector)\n",
    "\n",
    "    return neighbors, distances"
   ]
  },
  {
   "cell_type": "code",
   "execution_count": 25,
   "id": "59008a67-33c2-4767-8f99-29d457f6393f",
   "metadata": {},
   "outputs": [
    {
     "name": "stdout",
     "output_type": "stream",
     "text": [
      "Indices of nearest neighbors: [[608 816 220 404 514 625 773 175 152 403]]\n",
      "Distances to nearest neighbors: [[28.623615 28.37905  28.336159 28.31845  28.276588 28.166014 28.130856\n",
      "  27.992577 27.746948 27.730839]]\n"
     ]
    },
    {
     "name": "stderr",
     "output_type": "stream",
     "text": [
      "2024-03-23 11:06:45.570479: I scann/partitioning/partitioner_factory_base.cc:59] Size of sampled dataset for training partition: 1000\n",
      "2024-03-23 11:06:45.748446: I ./scann/partitioning/kmeans_tree_partitioner_utils.h:84] PartitionerFactory ran in 177.894647ms.\n"
     ]
    }
   ],
   "source": [
    "num_samples = 1000\n",
    "dimension = 100\n",
    "np.random.seed(42)\n",
    "corpus = np.random.random((num_samples, dimension)).astype('float32')\n",
    "\n",
    "query_vector = np.random.random((1, dimension)).astype('float32')\n",
    "\n",
    "neighbors, distances = search_with_scann(corpus, query_vector)\n",
    "print(\"Indices of nearest neighbors:\", neighbors)\n",
    "print(\"Distances to nearest neighbors:\", distances)"
   ]
  },
  {
   "cell_type": "code",
   "execution_count": null,
   "id": "97a54d8a-88f9-4981-a5bb-5f0032f50056",
   "metadata": {},
   "outputs": [],
   "source": []
  }
 ],
 "metadata": {
  "kernelspec": {
   "display_name": "Python OR Kernel",
   "language": "python",
   "name": "or"
  },
  "language_info": {
   "codemirror_mode": {
    "name": "ipython",
    "version": 3
   },
   "file_extension": ".py",
   "mimetype": "text/x-python",
   "name": "python",
   "nbconvert_exporter": "python",
   "pygments_lexer": "ipython3",
   "version": "3.9.16"
  }
 },
 "nbformat": 4,
 "nbformat_minor": 5
}
